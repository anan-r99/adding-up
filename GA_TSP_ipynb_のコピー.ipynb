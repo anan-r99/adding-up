{
  "nbformat": 4,
  "nbformat_minor": 0,
  "metadata": {
    "colab": {
      "name": "GA_TSP.ipynb のコピー",
      "provenance": [],
      "collapsed_sections": [],
      "include_colab_link": true
    },
    "kernelspec": {
      "name": "python3",
      "display_name": "Python 3"
    }
  },
  "cells": [
    {
      "cell_type": "markdown",
      "metadata": {
        "id": "view-in-github",
        "colab_type": "text"
      },
      "source": [
        "<a href=\"https://colab.research.google.com/github/anan-r99/adding-up/blob/master/GA_TSP_ipynb_%E3%81%AE%E3%82%B3%E3%83%94%E3%83%BC.ipynb\" target=\"_parent\"><img src=\"https://colab.research.google.com/assets/colab-badge.svg\" alt=\"Open In Colab\"/></a>"
      ]
    },
    {
      "cell_type": "markdown",
      "metadata": {
        "id": "QD21BCWs1Cti",
        "colab_type": "text"
      },
      "source": [
        "# 遺伝的アルゴリズム（GA）による巡回セールスマン（TSP）問題"
      ]
    },
    {
      "cell_type": "markdown",
      "metadata": {
        "id": "01OggwStzZis",
        "colab_type": "text"
      },
      "source": [
        "##準備"
      ]
    },
    {
      "cell_type": "markdown",
      "metadata": {
        "id": "8ZlzBWMcfLB2",
        "colab_type": "text"
      },
      "source": [
        "### パラメータ設定"
      ]
    },
    {
      "cell_type": "code",
      "metadata": {
        "id": "BBbO9mHzfLar",
        "colab_type": "code",
        "colab": {}
      },
      "source": [
        "num_cities = 4 # 都市数\n",
        "indivisuals = 5 #GAの個体数\n",
        "generation = 100 #世代数\n",
        "p_mutation = 0.05 #突然変異の確率"
      ],
      "execution_count": 0,
      "outputs": []
    },
    {
      "cell_type": "markdown",
      "metadata": {
        "id": "ron9KFT3_yve",
        "colab_type": "text"
      },
      "source": [
        "###ライブラリのインポート"
      ]
    },
    {
      "cell_type": "code",
      "metadata": {
        "id": "UnzFVRe91PEw",
        "colab_type": "code",
        "colab": {}
      },
      "source": [
        "import numpy as np\n",
        "import random\n",
        "import matplotlib.pyplot as plt"
      ],
      "execution_count": 0,
      "outputs": []
    },
    {
      "cell_type": "markdown",
      "metadata": {
        "id": "0cMqdqXUUeYq",
        "colab_type": "text"
      },
      "source": [
        "### 都市座標の設定（乱数）"
      ]
    },
    {
      "cell_type": "code",
      "metadata": {
        "id": "CkMjx8gh2Nvm",
        "colab_type": "code",
        "colab": {}
      },
      "source": [
        "def generate_rand_cities(num_cities):\n",
        "    positions = np.zeros((num_cities, 2))\n",
        "    for i in range(num_cities):\n",
        "        positions[i, 0] = random.random()\n",
        "        positions[i, 1] = random.random()\n",
        "    return positions"
      ],
      "execution_count": 0,
      "outputs": []
    },
    {
      "cell_type": "markdown",
      "metadata": {
        "id": "mfiMjJKGuWba",
        "colab_type": "text"
      },
      "source": [
        "### 初期個体の生成"
      ]
    },
    {
      "cell_type": "code",
      "metadata": {
        "id": "AaeSdhSm_dSu",
        "colab_type": "code",
        "colab": {}
      },
      "source": [
        "def generate_init_genes(num_indivisual, num_cities):\n",
        "    genes = np.zeros((num_indivisual, num_cities), dtype=np.int16)\n",
        "    for i in range(num_indivisual):\n",
        "        genes[i,] = random.sample(range(num_cities), k=num_cities)\n",
        "    return genes"
      ],
      "execution_count": 0,
      "outputs": []
    },
    {
      "cell_type": "markdown",
      "metadata": {
        "id": "jjHqu1ASubT-",
        "colab_type": "text"
      },
      "source": [
        "###経路長の計算"
      ]
    },
    {
      "cell_type": "code",
      "metadata": {
        "id": "rmKaFuWvsiO4",
        "colab_type": "code",
        "colab": {}
      },
      "source": [
        "def sum_path(cities, gene):\n",
        "    sum = 0.\n",
        "    for i in range(len(cities)-1):\n",
        "        sum += np.linalg.norm(cities[int(gene[i])]-cities[int(gene[i+1])])\n",
        "    return sum"
      ],
      "execution_count": 0,
      "outputs": []
    },
    {
      "cell_type": "markdown",
      "metadata": {
        "id": "5LunT7icukTK",
        "colab_type": "text"
      },
      "source": [
        "#### 一世代分の個体のそれぞれの経路長を求める"
      ]
    },
    {
      "cell_type": "code",
      "metadata": {
        "id": "Jkls0JnvdRun",
        "colab_type": "code",
        "colab": {}
      },
      "source": [
        "def genes_path(genes, cities):\n",
        "    pathlength_vec = np.zeros(len(genes))\n",
        "    for i in range(len(genes)):\n",
        "        indices = genes[i]\n",
        "        pathlength_vec[i] = sum_path(cities, indices)\n",
        "    return pathlength_vec"
      ],
      "execution_count": 0,
      "outputs": []
    },
    {
      "cell_type": "markdown",
      "metadata": {
        "id": "I58AqX2EuwkY",
        "colab_type": "text"
      },
      "source": [
        "#### ルーレット選択のための選択確率テーブル生成"
      ]
    },
    {
      "cell_type": "code",
      "metadata": {
        "id": "tgPz0gMf1KHR",
        "colab_type": "code",
        "colab": {}
      },
      "source": [
        "def generate_roulette(fitness_vec):\n",
        "    total = np.sum(fitness_vec)\n",
        "    roulette = np.zeros(len(fitness_vec))\n",
        "    for i in range(len(fitness_vec)):\n",
        "        roulette[i] = fitness_vec[i]/total\n",
        "    return roulette"
      ],
      "execution_count": 0,
      "outputs": []
    },
    {
      "cell_type": "markdown",
      "metadata": {
        "id": "81_QjY9j0Lrg",
        "colab_type": "text"
      },
      "source": [
        "#### ルーレット選択"
      ]
    },
    {
      "cell_type": "code",
      "metadata": {
        "id": "tToQiA6q0XpQ",
        "colab_type": "code",
        "colab": {}
      },
      "source": [
        "def roulette_choice(fitness_vec):\n",
        "    roulette = generate_roulette(fitness_vec)\n",
        "    choiced = np.random.choice(len(roulette), 2, replace=True, p=roulette)\n",
        "    return choiced"
      ],
      "execution_count": 0,
      "outputs": []
    },
    {
      "cell_type": "markdown",
      "metadata": {
        "id": "ismsHcsyusl6",
        "colab_type": "text"
      },
      "source": [
        "#### 部分交叉"
      ]
    },
    {
      "cell_type": "code",
      "metadata": {
        "id": "GbIjDOBgE_Ft",
        "colab_type": "code",
        "colab": {}
      },
      "source": [
        "def partial_crossover(parent1, parent2):\n",
        "    num = len(parent1)\n",
        "    cross_point = random.randrange(0, num-1)\n",
        "    child1 = parent1\n",
        "    child2 = parent2\n",
        "    for i in range(num - cross_point):\n",
        "        target_index = cross_point + i\n",
        "        \n",
        "        target_value1 = parent1[target_index]\n",
        "        target_value2 = parent2[target_index]\n",
        "        exchange_index1 = np.where(parent1 == target_value2)\n",
        "        exchange_index2 = np.where(parent2 == target_value1)\n",
        "\n",
        "        child1[target_index] = target_value2\n",
        "        child2[target_index] = target_value1\n",
        "        child1[exchange_index1] = target_value1\n",
        "        child2[exchange_index2] = target_value2\n",
        "    return child1, child2"
      ],
      "execution_count": 0,
      "outputs": []
    },
    {
      "cell_type": "markdown",
      "metadata": {
        "id": "hmnIa8a40V15",
        "colab_type": "text"
      },
      "source": [
        "#### 突然変異"
      ]
    },
    {
      "cell_type": "code",
      "metadata": {
        "id": "Dtjcpg8iKRDY",
        "colab_type": "code",
        "colab": {}
      },
      "source": [
        "def translocation_mutation(genes, num_mutation, p_value):\n",
        "    mutated_genes = genes\n",
        "    for i in range(num_mutation):\n",
        "        mutation_flg = np.random.choice(2, 1, p = [1-p_value, p_value])\n",
        "        if mutation_flg == 1:\n",
        "            mutation_value = np.random.choice(genes[i], 2, replace=  False)\n",
        "            mutation_position1 = np.where(genes[i] == mutation_value[0])\n",
        "            mutation_position2 = np.where(genes[i] == mutation_value[1])\n",
        "            mutated_genes[i][mutation_position1] = mutation_value[1]\n",
        "            mutated_genes[i][mutation_position2] = mutation_value[0]\n",
        "    return mutated_genes"
      ],
      "execution_count": 0,
      "outputs": []
    },
    {
      "cell_type": "markdown",
      "metadata": {
        "id": "64MTwrLE0vqF",
        "colab_type": "text"
      },
      "source": [
        "#### 都市の配置とルートの可視化"
      ]
    },
    {
      "cell_type": "code",
      "metadata": {
        "id": "MTc8sNT0SPu9",
        "colab_type": "code",
        "colab": {}
      },
      "source": [
        "def show_cities(cities):\n",
        "    for i in range(len(cities)):\n",
        "        plt.scatter(cities[i][0], cities[i][1])"
      ],
      "execution_count": 0,
      "outputs": []
    },
    {
      "cell_type": "code",
      "metadata": {
        "id": "ckYuSDOrS7zj",
        "colab_type": "code",
        "colab": {}
      },
      "source": [
        "def show_route(cities, genes):\n",
        "    for i in range(len(genes)-1):\n",
        "        if i == 0:\n",
        "            plt.text(cities[int(genes[i])][0], cities[int(genes[i])][1], \"start\")\n",
        "        else:\n",
        "            plt.text(cities[int(genes[i])][0], cities[int(genes[i])][1], str(i))\n",
        "        plt.plot([cities[int(genes[i])][0], cities[int(genes[i+1])][0]], \n",
        "                 [cities[int(genes[i])][1], cities[int(genes[i+1])][1]])\n",
        "    plt.text(cities[int(genes[i+1])][0], cities[int(genes[i+1])][1], \"goal\")"
      ],
      "execution_count": 0,
      "outputs": []
    },
    {
      "cell_type": "markdown",
      "metadata": {
        "id": "_oYoITswRbr5",
        "colab_type": "text"
      },
      "source": [
        "## 実行部"
      ]
    },
    {
      "cell_type": "markdown",
      "metadata": {
        "id": "R0sXNZqa1rBY",
        "colab_type": "text"
      },
      "source": [
        "### 初期化"
      ]
    },
    {
      "cell_type": "code",
      "metadata": {
        "id": "PlKM5ltE1qFa",
        "colab_type": "code",
        "outputId": "1a822930-6e89-433a-9bc1-6a790ce14a4a",
        "colab": {
          "base_uri": "https://localhost:8080/",
          "height": 310
        }
      },
      "source": [
        "# cities = generate_rand_cities(num_cities)\n",
        "\n",
        "cities = np.array([[0.1, 0.1], \n",
        "            [0.2, 0.2], \n",
        "            [0.1, 0.2], \n",
        "            [0.2, 0.1]])\n",
        "\n",
        "genes = generate_init_genes(indivisuals, num_cities)\n",
        "show_cities(cities)\n",
        "cities"
      ],
      "execution_count": 0,
      "outputs": [
        {
          "output_type": "execute_result",
          "data": {
            "text/plain": [
              "array([[0.1, 0.1],\n",
              "       [0.2, 0.2],\n",
              "       [0.1, 0.2],\n",
              "       [0.2, 0.1]])"
            ]
          },
          "metadata": {
            "tags": []
          },
          "execution_count": 34
        },
        {
          "output_type": "display_data",
          "data": {
            "image/png": "[encoded data removed]",
            "text/plain": [
              "<Figure size 432x288 with 1 Axes>"
            ]
          },
          "metadata": {
            "tags": [],
            "needs_background": "light"
          }
        }
      ]
    },
    {
      "cell_type": "markdown",
      "metadata": {
        "id": "cY9K-dZr1usv",
        "colab_type": "text"
      },
      "source": [
        "### GAの実行"
      ]
    },
    {
      "cell_type": "code",
      "metadata": {
        "id": "nDIJ5QdDTz_B",
        "colab_type": "code",
        "outputId": "1f02c23e-4894-42b4-f19c-f64672659204",
        "colab": {
          "base_uri": "https://localhost:8080/",
          "height": 562
        }
      },
      "source": [
        "top_indivisual=[]\n",
        "min_sum_path = 100\n",
        "max_generation = 0;\n",
        "elite = 9\n",
        "for i in range(generation):\n",
        "    fitness_vec = np.reciprocal(genes_path(genes, cities))\n",
        "    child = np.zeros(np.shape(genes))\n",
        "    for j in range(int((indivisuals-elite)/2)):\n",
        "        parents_indices = roulette_choice(fitness_vec)\n",
        "        child[2*j], child[2*j+1] = partial_crossover(genes[parents_indices[0]], \n",
        "                                                     genes[parents_indices[1]])\n",
        "    \n",
        "    for j in range(indivisuals-elite, indivisuals):\n",
        "        child[j] = genes[np.argsort(fitness_vec)[j]]\n",
        "\n",
        "    child = translocation_mutation(child, indivisuals-elite, p_mutation)\n",
        "    top_indivisual.append(sum_path(cities, child[np.argmax(fitness_vec)]))\n",
        "    genes = child\n",
        "    \n",
        "    if min_sum_path > sum_path(cities, child[np.argmax(fitness_vec)]):\n",
        "        max_fit = max(fitness_vec)\n",
        "        min_sum_path = sum_path(cities, child[np.argmax(fitness_vec)])\n",
        "        max_generation = i;\n",
        "        print(\"generation: \"+str(i))\n",
        "        print(\"route: \"+str(child[np.argmax(fitness_vec)]))\n",
        "        print(\"sum_path: \"+str(sum_path(cities, child[np.argmax(fitness_vec)])))\n",
        "        show_cities(cities)\n",
        "        show_route(cities, child[np.argmax(fitness_vec)])\n",
        "        plt.show()"
      ],
      "execution_count": 0,
      "outputs": [
        {
          "output_type": "stream",
          "text": [
            "generation: 0\n",
            "route: [1. 3. 2. 0.]\n",
            "sum_path: 0.3414213562373095\n"
          ],
          "name": "stdout"
        },
        {
          "output_type": "display_data",
          "data": {
            "image/png": "[encoded data removed]",
            "text/plain": [
              "<Figure size 432x288 with 1 Axes>"
            ]
          },
          "metadata": {
            "tags": [],
            "needs_background": "light"
          }
        },
        {
          "output_type": "stream",
          "text": [
            "generation: 1\n",
            "route: [2. 1. 3. 0.]\n",
            "sum_path: 0.30000000000000004\n"
          ],
          "name": "stdout"
        },
        {
          "output_type": "display_data",
          "data": {
            "image/png": "[encoded data removed]",
            "text/plain": [
              "<Figure size 432x288 with 1 Axes>"
            ]
          },
          "metadata": {
            "tags": [],
            "needs_background": "light"
          }
        }
      ]
    },
    {
      "cell_type": "markdown",
      "metadata": {
        "id": "6eUWkCY410m_",
        "colab_type": "text"
      },
      "source": [
        "### 巡回経路の距離の遷移"
      ]
    },
    {
      "cell_type": "code",
      "metadata": {
        "id": "wBWiuwmQAXW7",
        "colab_type": "code",
        "outputId": "05c4fa06-cfa0-4be8-9571-923a1198893c",
        "colab": {
          "base_uri": "https://localhost:8080/",
          "height": 260
        }
      },
      "source": [
        "print(\"max generation: \"+str(max_generation))\n",
        "plt.plot(top_indivisual)\n",
        "plt.xlabel(\"generation\")\n",
        "plt.ylabel(\"sum of path\")\n",
        "plt.show();"
      ],
      "execution_count": 0,
      "outputs": [
        {
          "output_type": "stream",
          "text": [
            "max generation: 1\n"
          ],
          "name": "stdout"
        },
        {
          "output_type": "display_data",
          "data": {
            "image/png": "[encoded data removed]",
            "text/plain": [
              "<Figure size 432x288 with 1 Axes>"
            ]
          },
          "metadata": {
            "tags": [],
            "needs_background": "light"
          }
        }
      ]
    }
  ]
}